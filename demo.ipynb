{
 "cells": [
  {
   "cell_type": "code",
   "execution_count": 1,
   "metadata": {},
   "outputs": [],
   "source": [
    "import numpy\n",
    "import pandas"
   ]
  },
  {
   "cell_type": "code",
   "execution_count": 1,
   "metadata": {},
   "outputs": [],
   "source": [
    "from Quant_Games.sports_bracket import SportsBracket\n",
    "\n",
    "num_teams = 8\n",
    "game = SportsBracket(num_teams)\n"
   ]
  },
  {
   "cell_type": "code",
   "execution_count": 2,
   "metadata": {},
   "outputs": [
    {
     "name": "stdout",
     "output_type": "stream",
     "text": [
      "Round1!\n",
      "Simulating Round...\n",
      "Team 1 beat team 2!\n",
      "Team 3 beat team 4!\n",
      "Team 5 beat team 6!\n",
      "Team 8 beat team 7!\n"
     ]
    }
   ],
   "source": [
    "game.simulate_round()"
   ]
  },
  {
   "cell_type": "code",
   "execution_count": 3,
   "metadata": {},
   "outputs": [
    {
     "name": "stdout",
     "output_type": "stream",
     "text": [
      "For Team 1, payout for round 2 is 33.8\n",
      "For Team 2, payout for round 2 is 12.45\n",
      "For Team 3, payout for round 2 is 33.92\n",
      "For Team 4, payout for round 2 is 7.16\n",
      "For Team 5, payout for round 2 is 30.59\n",
      "For Team 6, payout for round 2 is 12.38\n",
      "For Team 7, payout for round 2 is 15.86\n",
      "For Team 8, payout for round 2 is 20.3\n",
      "\n",
      "\n",
      "Betting is starting for round 2! Which teams you wish to bet on (in a list / 'none'): \n",
      "For Team 1, a bet for round 2 costs 39.04\n",
      "For Team 3, a bet for round 2 costs 41.2\n",
      "For Team 5, a bet for round 2 costs 31.89\n",
      "For Team 8, a bet for round 2 costs 17.89\n",
      "\n",
      "\n",
      "You have placed a bet on team 1 for 39.04064580567622\n"
     ]
    }
   ],
   "source": [
    "game.get_payouts()\n",
    "game.get_pricing()"
   ]
  },
  {
   "cell_type": "code",
   "execution_count": null,
   "metadata": {},
   "outputs": [],
   "source": []
  }
 ],
 "metadata": {
  "kernelspec": {
   "display_name": "jq",
   "language": "python",
   "name": "python3"
  },
  "language_info": {
   "codemirror_mode": {
    "name": "ipython",
    "version": 3
   },
   "file_extension": ".py",
   "mimetype": "text/x-python",
   "name": "python",
   "nbconvert_exporter": "python",
   "pygments_lexer": "ipython3",
   "version": "3.10.8"
  },
  "orig_nbformat": 4
 },
 "nbformat": 4,
 "nbformat_minor": 2
}
