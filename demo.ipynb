{
 "cells": [
  {
   "cell_type": "code",
   "execution_count": 14,
   "metadata": {},
   "outputs": [],
   "source": [
    "import numpy\n",
    "import pandas"
   ]
  },
  {
   "cell_type": "code",
   "execution_count": 2,
   "metadata": {},
   "outputs": [
    {
     "name": "stdout",
     "output_type": "stream",
     "text": [
      "Team 1 has probability 0.0075 of winning!\n",
      "Payout for round 0 is 0.75\n",
      "Payout for round 1 is 2.25\n",
      "Payout for round 2 is 12.62\n",
      "\n",
      "\n",
      "Team 2 has probability 0.0444 of winning!\n",
      "Payout for round 0 is 4.44\n",
      "Payout for round 1 is 6.66\n",
      "Payout for round 2 is 22.19\n",
      "\n",
      "\n",
      "Team 3 has probability 0.2395 of winning!\n",
      "Payout for round 0 is 23.95\n",
      "Payout for round 1 is 35.92\n",
      "Payout for round 2 is 45.72\n",
      "\n",
      "\n",
      "Team 4 has probability 0.0646 of winning!\n",
      "Payout for round 0 is 6.46\n",
      "Payout for round 1 is 19.38\n",
      "Payout for round 2 is 29.82\n",
      "\n",
      "\n",
      "Team 5 has probability 0.2064 of winning!\n",
      "Payout for round 0 is 20.64\n",
      "Payout for round 1 is 38.7\n",
      "Payout for round 2 is 66.98\n",
      "\n",
      "\n",
      "Team 6 has probability 0.1637 of winning!\n",
      "Payout for round 0 is 16.37\n",
      "Payout for round 1 is 35.07\n",
      "Payout for round 2 is 64.14\n",
      "\n",
      "\n",
      "Team 7 has probability 0.0033 of winning!\n",
      "Payout for round 0 is 0.33\n",
      "Payout for round 1 is 2.65\n",
      "Payout for round 2 is 22.54\n",
      "\n",
      "\n",
      "Team 8 has probability 0.2706 of winning!\n",
      "Payout for round 0 is 27.06\n",
      "Payout for round 1 is 30.93\n",
      "Payout for round 2 is 64.14\n",
      "\n",
      "\n",
      "\n",
      "There are 8 teams in play!\n",
      "Team 1 has strength 100\n",
      "Team 2 has strength 200\n",
      "Team 3 has strength 600\n",
      "Team 4 has strength 300\n",
      "Team 5 has strength 800\n",
      "Team 6 has strength 700\n",
      "Team 7 has strength 100\n",
      "Team 8 has strength 700\n",
      "\n",
      "\n"
     ]
    }
   ],
   "source": [
    "import Quant_Games\n",
    "import Quant_Games.sports_bracket\n",
    "from Quant_Games.sports_bracket import SportsBracket\n",
    "\n",
    "num_teams = 8\n",
    "game = SportsBracket(num_teams)\n",
    "game.print_teams()"
   ]
  },
  {
   "cell_type": "code",
   "execution_count": 10,
   "metadata": {},
   "outputs": [
    {
     "name": "stdout",
     "output_type": "stream",
     "text": [
      "Team 3 has won the game!\n",
      "Game is already over!\n"
     ]
    }
   ],
   "source": [
    "game.simulate_round()"
   ]
  }
 ],
 "metadata": {
  "kernelspec": {
   "display_name": "jq",
   "language": "python",
   "name": "python3"
  },
  "language_info": {
   "codemirror_mode": {
    "name": "ipython",
    "version": 3
   },
   "file_extension": ".py",
   "mimetype": "text/x-python",
   "name": "python",
   "nbconvert_exporter": "python",
   "pygments_lexer": "ipython3",
   "version": "3.9.13"
  },
  "orig_nbformat": 4
 },
 "nbformat": 4,
 "nbformat_minor": 2
}
