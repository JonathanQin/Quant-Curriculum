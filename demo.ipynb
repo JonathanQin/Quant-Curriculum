{
 "cells": [
  {
   "cell_type": "code",
   "execution_count": 1,
   "metadata": {},
   "outputs": [],
   "source": [
    "import numpy\n",
    "import pandas"
   ]
  },
  {
   "cell_type": "code",
   "execution_count": 1,
   "metadata": {},
   "outputs": [],
   "source": [
    "from Quant_Games.sports_bracket import SportsBracket\n",
    "\n",
    "num_teams = 8\n",
    "game = SportsBracket(num_teams)\n"
   ]
  },
  {
   "cell_type": "code",
   "execution_count": 7,
   "metadata": {},
   "outputs": [
    {
     "name": "stdout",
     "output_type": "stream",
     "text": [
      "Round3!\n",
      "Simulating Round...\n",
      "Team 2 beat team 7!\n"
     ]
    }
   ],
   "source": [
    "game.simulate_round()"
   ]
  },
  {
   "cell_type": "code",
   "execution_count": 2,
   "metadata": {},
   "outputs": [
    {
     "name": "stdout",
     "output_type": "stream",
     "text": [
      "For Team 1, payout for round 1 is 30.93\n",
      "For Team 2, payout for round 1 is 2.89\n",
      "For Team 3, payout for round 1 is 0.68\n",
      "For Team 4, payout for round 1 is 42.03\n",
      "For Team 5, payout for round 1 is 1.71\n",
      "For Team 6, payout for round 1 is 17.49\n",
      "For Team 7, payout for round 1 is 2.13\n",
      "For Team 8, payout for round 1 is 2.13\n",
      "\n",
      "\n",
      "For Team 1, a bet for round 1 costs 30.03\n",
      "For Team 2, a bet for round 1 costs 4.95\n",
      "For Team 3, a bet for round 1 costs 2.0\n",
      "For Team 4, a bet for round 1 costs 43.18\n",
      "For Team 5, a bet for round 1 costs 3.94\n",
      "For Team 6, a bet for round 1 costs 19.16\n",
      "For Team 7, a bet for round 1 costs 2.85\n",
      "For Team 8, a bet for round 1 costs 1.25\n",
      "\n",
      "\n"
     ]
    }
   ],
   "source": [
    "game.get_payouts()\n",
    "game.get_pricing()"
   ]
  }
 ],
 "metadata": {
  "kernelspec": {
   "display_name": "jq",
   "language": "python",
   "name": "python3"
  },
  "language_info": {
   "codemirror_mode": {
    "name": "ipython",
    "version": 3
   },
   "file_extension": ".py",
   "mimetype": "text/x-python",
   "name": "python",
   "nbconvert_exporter": "python",
   "pygments_lexer": "ipython3",
   "version": "3.10.9"
  },
  "orig_nbformat": 4
 },
 "nbformat": 4,
 "nbformat_minor": 2
}
